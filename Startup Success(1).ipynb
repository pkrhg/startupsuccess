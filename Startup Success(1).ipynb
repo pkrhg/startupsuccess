{
 "cells": [
  {
   "cell_type": "code",
   "execution_count": 225,
   "metadata": {},
   "outputs": [],
   "source": [
    "import pandas as pd\n",
    "import numpy as np\n",
    "pd.set_option('display.max_columns', 500)\n",
    "pd.options.display.max_rows = 999999"
   ]
  },
  {
   "cell_type": "code",
   "execution_count": 226,
   "metadata": {},
   "outputs": [],
   "source": [
    "#Reading data\n",
    "df = pd.read_csv('companies2.csv')"
   ]
  },
  {
   "cell_type": "code",
   "execution_count": 227,
   "metadata": {},
   "outputs": [],
   "source": [
    "#Removing columns and rows not relevant for this analysis\n",
    "df = df.drop(['Headquarters Location'], axis=1)\n",
    "df = df.dropna(subset=['Funding Status'])"
   ]
  },
  {
   "cell_type": "code",
   "execution_count": 228,
   "metadata": {},
   "outputs": [],
   "source": [
    "#Label encoding the funding status column\n",
    "from sklearn.preprocessing import LabelEncoder\n",
    "le = LabelEncoder()\n",
    "le.fit(df['Funding Status'])\n",
    "df['Funding Status'] = le.transform(df['Funding Status'])"
   ]
  },
  {
   "cell_type": "code",
   "execution_count": 229,
   "metadata": {},
   "outputs": [],
   "source": [
    "#Further dropping unnecessary columns\n",
    "nn = df.drop(['Organization Name', 'Categories', 'CB Rank (Company)', 'Top 5 Investors', 'Estimated Revenue Range'], axis=1)"
   ]
  },
  {
   "cell_type": "code",
   "execution_count": 230,
   "metadata": {},
   "outputs": [],
   "source": [
    "#Applying gender guesser to CEO of each startup\n",
    "import gender_guesser.detector as gender\n",
    "d = gender.Detector()\n",
    "nn['Founder Gender'] = [d.get_gender(x) for x in nn['Founders'].str.split().str.get(0)]\n",
    "nn['Founder Gender'] = nn['Founder Gender'].replace({'mostly_male':'male', 'mostly_female':'female'})"
   ]
  },
  {
   "cell_type": "code",
   "execution_count": 231,
   "metadata": {},
   "outputs": [],
   "source": [
    "#Removing non-numeric characters from columns\n",
    "cols = ['SimilarWeb - Average Visits (6 months)', \n",
    "        'SimilarWeb - Visit Duration', 'SimilarWeb - Monthly Visits Growth']\n",
    "for x in cols:\n",
    "    nn[x] = nn[x].str.replace(\",\", \"\")\n",
    "    nn[x] = nn[x].str.replace(\"%\", \"\")\n",
    "    nn[x] = pd.to_numeric(nn[x])\n",
    "    nn = nn.fillna({x:nn[x].mean()})\n",
    "    \n",
    "cols2 = ['SimilarWeb - Monthly Visits', 'Apptopia - Downloads Last 30 Days', \n",
    "        'Number of Articles', 'IPqwery - Patents Granted', 'IPqwery - Trademarks Registered']\n",
    "for x in cols2:\n",
    "    nn[x] = nn[x].str.replace(\",\", \"\")\n",
    "cols3 = ['Number of Founders']\n",
    "for x in cols3:\n",
    "    nn[x] = pd.to_numeric(nn[x])\n",
    "    nn = nn.fillna({x:nn[x].mean()})"
   ]
  },
  {
   "cell_type": "code",
   "execution_count": 232,
   "metadata": {},
   "outputs": [],
   "source": [
    "#One-hot encoding for funding status\n",
    "nn = nn.dropna(subset=['Funding Status'])\n",
    "nn = pd.concat([nn,pd.get_dummies(nn['Funding Status'])], axis=1)\n",
    "nn = nn.drop(['Funding Status'], axis=1)\n",
    "nn = nn.rename(columns={0:'early', 1:'ipo', 2:'late', 3:'ma', 4:'seed'})"
   ]
  },
  {
   "cell_type": "code",
   "execution_count": 233,
   "metadata": {},
   "outputs": [],
   "source": [
    "#Cleaning up date format\n",
    "nn = nn.dropna(subset=['Founded Date'])\n",
    "nn['Founded Date'] = nn['Founded Date'].str[:-6]\n",
    "nn['Closed Date'] = nn['Closed Date'].str[:-6]"
   ]
  },
  {
   "cell_type": "code",
   "execution_count": 234,
   "metadata": {},
   "outputs": [],
   "source": [
    "#Resetting index\n",
    "nn = nn.reset_index()\n",
    "nn = nn.drop(['index'], axis=1)"
   ]
  },
  {
   "cell_type": "code",
   "execution_count": 235,
   "metadata": {},
   "outputs": [],
   "source": [
    "#One-hot encoding for number of employees\n",
    "nn = pd.concat([nn,pd.get_dummies(nn['Number of Employees'])], axis=1)\n",
    "nn = nn.drop(['Number of Employees'], axis=1)\n",
    "nn = nn.rename(columns={'10-Jan': '1-10'})"
   ]
  },
  {
   "cell_type": "code",
   "execution_count": 236,
   "metadata": {},
   "outputs": [],
   "source": [
    "#One-hot encoding for gender, removing unknown and andy (androgynous) columns as well as Founder Gender column\n",
    "nn = pd.concat([nn,pd.get_dummies(nn['Founder Gender'])], axis=1)\n",
    "nn = nn.drop(['andy', 'unknown', 'Founder Gender'], axis=1)"
   ]
  },
  {
   "cell_type": "code",
   "execution_count": 238,
   "metadata": {},
   "outputs": [],
   "source": [
    "#Defining success and failure\n",
    "#0 is failure, based on entries that have closing dates or entries that have failed to leave\n",
    "#early stages after 4 years\n",
    "#2 is success, based on entries that made it to later, more successful stages\n",
    "#1 is medium, based on entries that are currently alive but not failed, or for entries \n",
    "#that do not have enough information for a definitive conclusion of success or failure\n",
    "nn['Success'] = \"\"\n",
    "shape = nn.shape[1]-1\n",
    "nn['Founded Date'] = pd.to_numeric(nn['Founded Date'])\n",
    "nn['Success'] = pd.to_numeric(nn['Success'])\n",
    "long = np.where(np.array(2019 - nn['Founded Date'] > 4))\n",
    "for x in long:\n",
    "    nn.iloc[x, shape] = 0\n",
    "success1 = np.where(np.array(nn['ipo'] == 1))\n",
    "success2 = np.where(np.array(nn['late'] == 2))\n",
    "success3 = np.where(np.array(nn['ma'] == 3))\n",
    "failed1 = np.array(nn['Closed Date'])\n",
    "for x in success1:\n",
    "    nn.iloc[x, shape] = 2\n",
    "for x in success2:\n",
    "    nn.iloc[x, shape] = 2 \n",
    "for x in success3:\n",
    "    nn.iloc[x, shape] = 2\n",
    "\n",
    "failed1 = [isinstance(x,str) for x in failed1]\n",
    "j = np.array([])\n",
    "i = 0\n",
    "for x in failed1:\n",
    "    i += 1\n",
    "    if x == True:\n",
    "        j = np.append(j, i)\n",
    "for x in j:\n",
    "    nn.iloc[int(x), shape] = 0\n",
    "nn['Success'] = nn['Success'].fillna(1)"
   ]
  },
  {
   "cell_type": "code",
   "execution_count": 239,
   "metadata": {},
   "outputs": [],
   "source": [
    "#Imputing missing data\n",
    "nn = nn.fillna({'Number of Lead Investors':nn['Number of Lead Investors'].mean(), \n",
    "                'Number of Investors':nn['Number of Investors'].mean(),\n",
    "                'Number of Funding Rounds':nn['Number of Funding Rounds'].mean(),\n",
    "                'Total Equity Funding Amount Currency (in USD)':nn['Total Equity Funding Amount Currency (in USD)'].mean(),\n",
    "                'Total Funding Amount Currency (in USD)':nn['Total Funding Amount Currency (in USD)'].mean(),\n",
    "                'Number of Articles':0,\n",
    "                'SimilarWeb - Monthly Visits':0,\n",
    "                'Closed Date':0, 'Apptopia - Number of Apps':0, 'Apptopia - Downloads Last 30 Days':0,\n",
    "                'IPqwery - Patents Granted':0, 'IPqwery - Trademarks Registered':0, 'Siftery - Total Products Active':1})\n",
    "\n",
    "nn = nn.drop(['Founders'], axis=1)\n",
    "shape -= 1"
   ]
  },
  {
   "cell_type": "code",
   "execution_count": 255,
   "metadata": {},
   "outputs": [],
   "source": [
    "#Train test split with 20% data for testing\n",
    "x = np.array(nn.iloc[:,:37])\n",
    "y = np.array(nn.iloc[:,37])\n",
    "from sklearn import model_selection\n",
    "x_train2, x_test2, y_train2, y_test2 = model_selection.train_test_split(x,y,test_size=0.2)"
   ]
  },
  {
   "cell_type": "code",
   "execution_count": 256,
   "metadata": {},
   "outputs": [
    {
     "name": "stdout",
     "output_type": "stream",
     "text": [
      "Train on 2358 samples, validate on 263 samples\n",
      "Epoch 1/50\n",
      "2358/2358 [==============================] - 3s 1ms/step - loss: 0.6924 - acc: 0.5280 - val_loss: 0.6883 - val_acc: 0.5513\n",
      "Epoch 2/50\n",
      "2358/2358 [==============================] - 0s 72us/step - loss: 0.6899 - acc: 0.5428 - val_loss: 0.6881 - val_acc: 0.5513\n",
      "Epoch 3/50\n",
      "2358/2358 [==============================] - 0s 66us/step - loss: 0.6897 - acc: 0.5428 - val_loss: 0.6879 - val_acc: 0.5513\n",
      "Epoch 4/50\n",
      "2358/2358 [==============================] - 0s 67us/step - loss: 0.6896 - acc: 0.5428 - val_loss: 0.6878 - val_acc: 0.5513\n",
      "Epoch 5/50\n",
      "2358/2358 [==============================] - 0s 66us/step - loss: 0.6896 - acc: 0.5428 - val_loss: 0.6882 - val_acc: 0.5513\n",
      "Epoch 6/50\n",
      "2358/2358 [==============================] - 0s 71us/step - loss: 0.6895 - acc: 0.5428 - val_loss: 0.6880 - val_acc: 0.5513\n",
      "Epoch 7/50\n",
      "2358/2358 [==============================] - 0s 110us/step - loss: 0.6891 - acc: 0.5428 - val_loss: 0.6881 - val_acc: 0.5513\n",
      "Epoch 8/50\n",
      "2358/2358 [==============================] - 0s 72us/step - loss: 0.6893 - acc: 0.5428 - val_loss: 0.6876 - val_acc: 0.5513\n",
      "Epoch 9/50\n",
      "2358/2358 [==============================] - 0s 110us/step - loss: 0.6896 - acc: 0.5428 - val_loss: 0.6877 - val_acc: 0.5513\n",
      "Epoch 10/50\n",
      "2358/2358 [==============================] - 0s 73us/step - loss: 0.6893 - acc: 0.5428 - val_loss: 0.6870 - val_acc: 0.5513\n",
      "Epoch 11/50\n",
      "2358/2358 [==============================] - 0s 108us/step - loss: 0.6891 - acc: 0.5428 - val_loss: 0.6869 - val_acc: 0.5513\n",
      "Epoch 12/50\n",
      "2358/2358 [==============================] - 0s 86us/step - loss: 0.6884 - acc: 0.5428 - val_loss: 0.6861 - val_acc: 0.5513\n",
      "Epoch 13/50\n",
      "2358/2358 [==============================] - 0s 77us/step - loss: 0.6875 - acc: 0.5428 - val_loss: 0.6836 - val_acc: 0.5513\n",
      "Epoch 14/50\n",
      "2358/2358 [==============================] - 0s 100us/step - loss: 0.6853 - acc: 0.5428 - val_loss: 0.6780 - val_acc: 0.5513\n",
      "Epoch 15/50\n",
      "2358/2358 [==============================] - 0s 75us/step - loss: 0.6788 - acc: 0.5645 - val_loss: 0.6679 - val_acc: 0.7034\n",
      "Epoch 16/50\n",
      "2358/2358 [==============================] - 0s 108us/step - loss: 0.6683 - acc: 0.6217 - val_loss: 0.6532 - val_acc: 0.6844\n",
      "Epoch 17/50\n",
      "2358/2358 [==============================] - 0s 74us/step - loss: 0.6503 - acc: 0.6518 - val_loss: 0.7173 - val_acc: 0.5513\n",
      "Epoch 18/50\n",
      "2358/2358 [==============================] - 0s 91us/step - loss: 0.6201 - acc: 0.6671 - val_loss: 0.6266 - val_acc: 0.6464\n",
      "Epoch 19/50\n",
      "2358/2358 [==============================] - 0s 93us/step - loss: 0.6259 - acc: 0.6357 - val_loss: 0.6699 - val_acc: 0.6426\n",
      "Epoch 20/50\n",
      "2358/2358 [==============================] - 0s 84us/step - loss: 0.6154 - acc: 0.6573 - val_loss: 0.5292 - val_acc: 0.7681\n",
      "Epoch 21/50\n",
      "2358/2358 [==============================] - 0s 105us/step - loss: 0.5790 - acc: 0.6832 - val_loss: 0.5677 - val_acc: 0.7034\n",
      "Epoch 22/50\n",
      "2358/2358 [==============================] - 0s 85us/step - loss: 0.5785 - acc: 0.6836 - val_loss: 0.5414 - val_acc: 0.7034\n",
      "Epoch 23/50\n",
      "2358/2358 [==============================] - 0s 117us/step - loss: 0.5650 - acc: 0.6930 - val_loss: 0.4980 - val_acc: 0.7681\n",
      "Epoch 24/50\n",
      "2358/2358 [==============================] - 0s 81us/step - loss: 0.5512 - acc: 0.6722 - val_loss: 0.4928 - val_acc: 0.7034\n",
      "Epoch 25/50\n",
      "2358/2358 [==============================] - 0s 109us/step - loss: 0.5458 - acc: 0.6790 - val_loss: 0.5002 - val_acc: 0.7072\n",
      "Epoch 26/50\n",
      "2358/2358 [==============================] - 0s 83us/step - loss: 0.5508 - acc: 0.6773 - val_loss: 0.4998 - val_acc: 0.7034\n",
      "Epoch 27/50\n",
      "2358/2358 [==============================] - 0s 92us/step - loss: 0.5378 - acc: 0.6713 - val_loss: 0.5085 - val_acc: 0.7262\n",
      "Epoch 28/50\n",
      "2358/2358 [==============================] - 0s 103us/step - loss: 0.5383 - acc: 0.6874 - val_loss: 0.4910 - val_acc: 0.7072\n",
      "Epoch 29/50\n",
      "2358/2358 [==============================] - 0s 109us/step - loss: 0.5395 - acc: 0.6645 - val_loss: 0.4966 - val_acc: 0.7719\n",
      "Epoch 30/50\n",
      "2358/2358 [==============================] - 0s 85us/step - loss: 0.5356 - acc: 0.6807 - val_loss: 0.4904 - val_acc: 0.7034\n",
      "Epoch 31/50\n",
      "2358/2358 [==============================] - 0s 88us/step - loss: 0.5426 - acc: 0.6824 - val_loss: 0.4890 - val_acc: 0.7719\n",
      "Epoch 32/50\n",
      "2358/2358 [==============================] - 0s 138us/step - loss: 0.5357 - acc: 0.6891 - val_loss: 0.4942 - val_acc: 0.7034\n",
      "Epoch 33/50\n",
      "2358/2358 [==============================] - 0s 89us/step - loss: 0.5369 - acc: 0.6760 - val_loss: 0.4909 - val_acc: 0.7034\n",
      "Epoch 34/50\n",
      "2358/2358 [==============================] - 0s 132us/step - loss: 0.5343 - acc: 0.6858 - val_loss: 0.4907 - val_acc: 0.7681\n",
      "Epoch 35/50\n",
      "2358/2358 [==============================] - 0s 90us/step - loss: 0.5344 - acc: 0.6917 - val_loss: 0.4937 - val_acc: 0.7681\n",
      "Epoch 36/50\n",
      "2358/2358 [==============================] - 0s 199us/step - loss: 0.5350 - acc: 0.6862 - val_loss: 0.5027 - val_acc: 0.7681\n",
      "Epoch 37/50\n",
      "2358/2358 [==============================] - 1s 219us/step - loss: 0.5321 - acc: 0.6955 - val_loss: 0.4886 - val_acc: 0.7681\n",
      "Epoch 38/50\n",
      "2358/2358 [==============================] - 0s 191us/step - loss: 0.5344 - acc: 0.6743 - val_loss: 0.4828 - val_acc: 0.7072\n",
      "Epoch 39/50\n",
      "2358/2358 [==============================] - 0s 161us/step - loss: 0.5314 - acc: 0.6879 - val_loss: 0.4855 - val_acc: 0.7072\n",
      "Epoch 40/50\n",
      "2358/2358 [==============================] - 1s 219us/step - loss: 0.5293 - acc: 0.6879 - val_loss: 0.4903 - val_acc: 0.7681\n",
      "Epoch 41/50\n",
      "2358/2358 [==============================] - 0s 159us/step - loss: 0.5339 - acc: 0.6866 - val_loss: 0.4851 - val_acc: 0.7719\n",
      "Epoch 42/50\n",
      "2358/2358 [==============================] - 0s 138us/step - loss: 0.5351 - acc: 0.6785 - val_loss: 0.4884 - val_acc: 0.7719\n",
      "Epoch 43/50\n",
      "2358/2358 [==============================] - 0s 137us/step - loss: 0.5321 - acc: 0.6904 - val_loss: 0.4867 - val_acc: 0.7719\n",
      "Epoch 44/50\n",
      "2358/2358 [==============================] - 1s 255us/step - loss: 0.5262 - acc: 0.6874 - val_loss: 0.4927 - val_acc: 0.7681\n",
      "Epoch 45/50\n",
      "2358/2358 [==============================] - 1s 261us/step - loss: 0.5314 - acc: 0.6904 - val_loss: 0.4924 - val_acc: 0.7681\n",
      "Epoch 46/50\n",
      "2358/2358 [==============================] - 1s 374us/step - loss: 0.5320 - acc: 0.6938 - val_loss: 0.4932 - val_acc: 0.7681\n",
      "Epoch 47/50\n",
      "2358/2358 [==============================] - ETA: 0s - loss: 0.5345 - acc: 0.685 - 1s 334us/step - loss: 0.5346 - acc: 0.6853 - val_loss: 0.4929 - val_acc: 0.7681\n",
      "Epoch 48/50\n",
      "2358/2358 [==============================] - 1s 335us/step - loss: 0.5334 - acc: 0.6845 - val_loss: 0.4891 - val_acc: 0.7719\n",
      "Epoch 49/50\n",
      "2358/2358 [==============================] - 1s 214us/step - loss: 0.5308 - acc: 0.6955 - val_loss: 0.4814 - val_acc: 0.7719\n",
      "Epoch 50/50\n",
      "2358/2358 [==============================] - 0s 107us/step - loss: 0.5339 - acc: 0.6908 - val_loss: 0.4818 - val_acc: 0.7681\n"
     ]
    },
    {
     "data": {
      "image/png": "[encoded data removed]",
      "text/plain": [
       "<Figure size 432x288 with 1 Axes>"
      ]
     },
     "metadata": {},
     "output_type": "display_data"
    }
   ],
   "source": [
    "#Creating neural network with 5 dense layers and 3 dropout layers\n",
    "#Fitting on data, accuracy and loss visualization below\n",
    "from keras.models import Sequential\n",
    "from keras.layers import LSTM, Dense, Dropout, Masking, Embedding\n",
    "model2 = Sequential()\n",
    "model2.add(Dense(35, activation='sigmoid'))\n",
    "model2.add(Dropout(0.02))\n",
    "model2.add(Dense(26, activation='relu'))\n",
    "model2.add(Dense(22, activation='relu'))\n",
    "model2.add(Dense(12, activation='relu'))\n",
    "model2.add(Dense(6, activation='relu'))\n",
    "model2.add(Dropout(0.02))\n",
    "model2.add(Dense(4, activation='relu'))\n",
    "model2.add(Dropout(0.02))\n",
    "model2.add(Dense(3, activation='sigmoid'))\n",
    "from keras.optimizers import SGD\n",
    "opt = SGD(lr=0.2)\n",
    "model2.compile(loss = \"categorical_crossentropy\", optimizer = opt, metrics=['accuracy'])\n",
    "from keras.utils import to_categorical\n",
    "y_binarytrain2 = to_categorical(y_train2)\n",
    "y_binarytest2 = to_categorical(y_test2)\n",
    "\n",
    "final2 = model2.fit(x_train2, y_binarytrain2, validation_data=(x_test2, y_binarytest2), epochs=50)\n",
    "\n",
    "import matplotlib\n",
    "get_ipython().run_line_magic('matplotlib', 'inline')\n",
    "import matplotlib.pyplot as plt\n",
    "N = np.arange(0, 50)\n",
    "plt.figure()\n",
    "plt.plot(N, final2.history[\"loss\"], label=\"train_loss\")\n",
    "plt.plot(N, final2.history[\"val_loss\"], label=\"val_loss\")\n",
    "plt.plot(N, final2.history[\"acc\"], label=\"train_acc\")\n",
    "plt.plot(N, final2.history[\"val_acc\"], label=\"val_acc\")\n",
    "plt.title(\"Training Loss and Accuracy (Simple NN)\")\n",
    "plt.xlabel(\"Epoch #\")\n",
    "plt.ylabel(\"Loss/Accuracy\")\n",
    "plt.legend()\n",
    "plt.savefig('Loss and accuracy3')\n",
    "plt.show()"
   ]
  }
 ],
 "metadata": {
  "kernelspec": {
   "display_name": "Python 3",
   "language": "python",
   "name": "python3"
  },
  "language_info": {
   "codemirror_mode": {
    "name": "ipython",
    "version": 3
   },
   "file_extension": ".py",
   "mimetype": "text/x-python",
   "name": "python",
   "nbconvert_exporter": "python",
   "pygments_lexer": "ipython3",
   "version": "3.6.8"
  }
 },
 "nbformat": 4,
 "nbformat_minor": 2
}
